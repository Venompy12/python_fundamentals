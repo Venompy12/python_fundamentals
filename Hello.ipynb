{
  "cells": [
    {
      "cell_type": "code",
      "source": [
        "print(\"Mi nombre es Christian Granados\")\r\n",
        "print(\"Que tu meta hoy sea ganarle a tu mejor excusa.\")\r\n",
        "a=\"Hola mundo\"\r\n",
        "print(a)"
      ],
      "outputs": [
        {
          "output_type": "display_data",
          "data": {
            "application/vnd.livy.statement-meta+json": {
              "spark_pool": "SPK02",
              "session_id": "6",
              "statement_id": 6,
              "state": "finished",
              "livy_statement_state": "available",
              "queued_time": "2023-07-19T23:33:34.5945809Z",
              "session_start_time": null,
              "execution_start_time": "2023-07-19T23:33:34.8014312Z",
              "execution_finish_time": "2023-07-19T23:33:34.9634533Z",
              "spark_jobs": null,
              "parent_msg_id": "6f9ef629-ffb2-44ba-9c49-3fb43849bea2"
            },
            "text/plain": "StatementMeta(SPK02, 6, 6, Finished, Available)"
          },
          "metadata": {}
        },
        {
          "output_type": "stream",
          "name": "stdout",
          "text": [
            "Mi nombre es Christian Granados\nQue tu meta hoy sea ganarle a tu mejor excusa.\nHola mundo\n"
          ]
        }
      ],
      "execution_count": 5,
      "metadata": {}
    }
  ],
  "metadata": {
    "language_info": {
      "name": "python"
    },
    "kernelspec": {
      "name": "synapse_pyspark",
      "language": "Python",
      "display_name": "Synapse PySpark"
    },
    "kernel_info": {
      "name": "synapse_pyspark"
    },
    "save_output": true,
    "synapse_widget": {
      "version": "0.1",
      "state": {}
    }
  },
  "nbformat": 4,
  "nbformat_minor": 2
}