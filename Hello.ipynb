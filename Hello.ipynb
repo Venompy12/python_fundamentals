{
  "cells": [
    {
      "cell_type": "code",
      "source": [
        "print(\"Mi nombre es Christian Granados\")\r\n",
        "print(\"Que tu meta hoy sea ganarle a tu mejor excusa.\")"
      ],
      "outputs": [
        {
          "output_type": "display_data",
          "data": {
            "application/vnd.livy.statement-meta+json": {
              "spark_pool": "SPK02",
              "session_id": "6",
              "statement_id": 5,
              "state": "finished",
              "livy_statement_state": "available",
              "queued_time": "2023-07-19T23:24:32.2215904Z",
              "session_start_time": null,
              "execution_start_time": "2023-07-19T23:24:32.3626624Z",
              "execution_finish_time": "2023-07-19T23:24:32.5703661Z",
              "spark_jobs": null,
              "parent_msg_id": "6e9e3135-7da3-40d4-9e54-6847bf4a1a0b"
            },
            "text/plain": "StatementMeta(SPK02, 6, 5, Finished, Available)"
          },
          "metadata": {}
        },
        {
          "output_type": "stream",
          "name": "stdout",
          "text": [
            "Mi nombre es Christian Granados\nQue tu meta hoy sea ganarle a tu mejor excusa.\n"
          ]
        }
      ],
      "execution_count": 4,
      "metadata": {}
    }
  ],
  "metadata": {
    "language_info": {
      "name": "python"
    },
    "kernelspec": {
      "name": "synapse_pyspark",
      "language": "Python",
      "display_name": "Synapse PySpark"
    },
    "kernel_info": {
      "name": "synapse_pyspark"
    },
    "save_output": true,
    "synapse_widget": {
      "version": "0.1",
      "state": {}
    }
  },
  "nbformat": 4,
  "nbformat_minor": 2
}